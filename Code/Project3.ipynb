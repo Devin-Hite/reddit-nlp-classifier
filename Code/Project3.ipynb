{
 "cells": [
  {
   "cell_type": "markdown",
   "id": "39c077a4-44b7-447a-93cc-a73b91116fff",
   "metadata": {},
   "source": [
    "**Imports**"
   ]
  },
  {
   "cell_type": "code",
   "execution_count": 63,
   "id": "2b510a59-48a9-4408-ad66-e367254ef681",
   "metadata": {},
   "outputs": [],
   "source": [
    "import pandas as pd\n",
    "import numpy as np\n",
    "import matplotlib.pyplot as plt\n",
    "import seaborn as sns\n",
    "import requests\n",
    "import time\n",
    "import random\n",
    "import re\n",
    "\n",
    "from bs4 import BeautifulSoup\n",
    "from nltk.corpus import stopwords\n",
    "from nltk.stem import WordNetLemmatizer\n",
    "from nltk.stem.porter import PorterStemmer\n",
    "\n",
    "from nltk.tokenize import sent_tokenize, word_tokenize, RegexpTokenizer\n",
    "from sklearn.ensemble import RandomForestClassifier, ExtraTreesClassifier\n",
    "from sklearn.model_selection import GridSearchCV, train_test_split, cross_val_score\n",
    "from sklearn.feature_extraction.text import CountVectorizer\n",
    "from sklearn.linear_model import LogisticRegression\n",
    "from sklearn.pipeline import Pipeline\n",
    "from sklearn.naive_bayes import MultinomialNB\n",
    "from sklearn.metrics import confusion_matrix, roc_auc_score, plot_roc_curve, plot_confusion_matrix"
   ]
  },
  {
   "cell_type": "markdown",
   "id": "87362f1d-77c8-4356-890f-aa4bd0a2e8c1",
   "metadata": {},
   "source": [
    "## Scraping reddit for posts from the Soccer and NBA subreddits"
   ]
  },
  {
   "cell_type": "markdown",
   "id": "084716d0-e14e-40a2-b1a5-5114ad8c7dcf",
   "metadata": {},
   "source": [
    "**Function and scraping code from Katie Hickock**"
   ]
  },
  {
   "cell_type": "code",
   "execution_count": 64,
   "id": "0c7018de-f8f9-4026-95bf-62d5cad37eda",
   "metadata": {},
   "outputs": [],
   "source": [
    "def extract_reddit(res): # only make one df at atime          \n",
    "    if res.status_code == 200:         \n",
    "        posts = res.json()['data'] # posts is a list         \n",
    "        df = pd.DataFrame(posts)[['subreddit', 'title', 'selftext', 'created_utc']] # appends to df          \n",
    "    return df"
   ]
  },
  {
   "cell_type": "code",
   "execution_count": 65,
   "id": "4b95f8dc-8f68-4ca4-9072-5fa8d66d34f5",
   "metadata": {},
   "outputs": [],
   "source": [
    "### Code on behalf of Katie Hickcock\n",
    "# df_s= pd.DataFrame() # want to append function df to empty ALL POSTS df\n",
    "\n",
    "# subreddit= 'soccer'\n",
    "\n",
    "# url = 'https://api.pushshift.io/reddit/search/submission/'\n",
    "# params = {'subreddit': subreddit, 'size': 100} # params\n",
    "\n",
    "\n",
    "# for i in range(20): # should give 20 times * 100 posts so 2000 posts\n",
    "#     time.sleep(10) # does task every sleep(#) seconds\n",
    "    \n",
    "#     res = requests.get(url, params) \n",
    "#     func_df= extract_reddit(res) # df made at each i\n",
    "#     params['before'] = func_df.iloc[-1]['created_utc'] # the last time data was taken from online\n",
    "#     # params['before']= last_time\n",
    "    \n",
    "#     df_s= df_s.append(func_df, ignore_index= True)\n",
    "\n",
    "# df_s.info()"
   ]
  },
  {
   "cell_type": "code",
   "execution_count": 66,
   "id": "cd3f69a4-7e0e-472a-bd0f-f94ae36a629e",
   "metadata": {
    "tags": []
   },
   "outputs": [],
   "source": [
    "### Code on behalf of Katie Hickcock\n",
    "# df_b= pd.DataFrame() # want to append function df to empty ALL POSTS df\n",
    "\n",
    "# subreddit= 'NBA'\n",
    "\n",
    "# url = 'https://api.pushshift.io/reddit/search/submission/'\n",
    "# params = {'subreddit': subreddit, 'size': 100} # params\n",
    "\n",
    "\n",
    "# for i in range(20): # should give 20 times * 100 posts so 2000 posts\n",
    "#     time.sleep(10) # does task every sleep(#) seconds\n",
    "    \n",
    "#     res = requests.get(url, params) \n",
    "#     func_df= extract_reddit(res) # df made at each i\n",
    "#     params['before'] = func_df.iloc[-1]['created_utc'] # the last time data was taken from online\n",
    "#     # params['before']= last_time\n",
    "    \n",
    "#     df_b= df_b.append(func_df, ignore_index= True)\n",
    "\n",
    "# df_b.info()"
   ]
  },
  {
   "cell_type": "markdown",
   "id": "71051792-b44d-4688-af75-4a61eea1d76a",
   "metadata": {},
   "source": [
    "## Saving and reloading the data so that it is stored"
   ]
  },
  {
   "cell_type": "code",
   "execution_count": 67,
   "id": "5e4cd467-c848-4392-a2f1-cb1f8eeb0667",
   "metadata": {},
   "outputs": [],
   "source": [
    "# df_s.to_csv(r'C:\\Users\\Dask\\Documents\\Code\\dsi\\project3\\project_3\\Data\\df_s.csv')\n",
    "# df_b.to_csv(r'C:\\Users\\Dask\\Documents\\Code\\dsi\\project3\\project_3\\Data\\df_b.csv)"
   ]
  },
  {
   "cell_type": "code",
   "execution_count": 68,
   "id": "3e68fb15-1d50-4b48-8f99-258363f483f5",
   "metadata": {},
   "outputs": [],
   "source": [
    "df_s = pd.read_csv(r'C:\\Users\\Dask\\Documents\\Code\\dsi\\project3\\project_3\\Data\\dfs.csv')\n",
    "df_b = pd.read_csv(r'C:\\Users\\Dask\\Documents\\Code\\dsi\\project3\\project_3\\Data\\dfb.csv')"
   ]
  },
  {
   "cell_type": "markdown",
   "id": "db412d26-ea58-40a2-9743-a33bfeea5aab",
   "metadata": {},
   "source": [
    "**Dropping unnecessary columns and setting titles to lowercase**"
   ]
  },
  {
   "cell_type": "code",
   "execution_count": 69,
   "id": "120f10c5-030e-47c1-839f-3fd3d0bce93c",
   "metadata": {},
   "outputs": [],
   "source": [
    "#dropping unneeded columns\n",
    "df_s = df_s.drop(columns = 'Unnamed: 0')\n",
    "df_b = df_b.drop(columns = 'Unnamed: 0')"
   ]
  },
  {
   "cell_type": "code",
   "execution_count": 70,
   "id": "03f675a7-9e36-4737-b33e-dffa0fed143d",
   "metadata": {},
   "outputs": [],
   "source": [
    "#Making the titles for both subreddits all lowercase\n",
    "df_s['title'] = df_s['title'].str.lower()\n",
    "df_b['title'] = df_b['title'].str.lower()"
   ]
  },
  {
   "cell_type": "markdown",
   "id": "70fcacd3-9919-4737-b38c-6cbd94f2cd83",
   "metadata": {},
   "source": [
    "**Checking for null values in titles and body**"
   ]
  },
  {
   "cell_type": "code",
   "execution_count": 71,
   "id": "4e3981ab-4e03-4df7-a131-b41721823d06",
   "metadata": {},
   "outputs": [
    {
     "data": {
      "text/plain": [
       "(False    1332\n",
       " True      660\n",
       " Name: selftext, dtype: int64,\n",
       " True     1693\n",
       " False     306\n",
       " Name: selftext, dtype: int64)"
      ]
     },
     "execution_count": 71,
     "metadata": {},
     "output_type": "execute_result"
    }
   ],
   "source": [
    "#Checking for null values in the body of the posts on each subreddit\n",
    "df_b['selftext'].isnull().value_counts(), df_s['selftext'].isnull().value_counts()"
   ]
  },
  {
   "cell_type": "code",
   "execution_count": 72,
   "id": "03835d50-ddcb-4f0f-bbbf-3893d80c14dd",
   "metadata": {},
   "outputs": [
    {
     "data": {
      "text/plain": [
       "(False    1999\n",
       " Name: title, dtype: int64,\n",
       " False    1992\n",
       " Name: title, dtype: int64)"
      ]
     },
     "execution_count": 72,
     "metadata": {},
     "output_type": "execute_result"
    }
   ],
   "source": [
    "#checking for null values in the titles of the posts of each subreddit\n",
    "df_s['title'].isnull().value_counts(), df_b['title'].isnull().value_counts()"
   ]
  },
  {
   "cell_type": "code",
   "execution_count": 73,
   "id": "86bac056-bbd9-4e98-9412-02e57e2abf51",
   "metadata": {},
   "outputs": [
    {
     "data": {
      "text/plain": [
       "(0, 0)"
      ]
     },
     "execution_count": 73,
     "metadata": {},
     "output_type": "execute_result"
    }
   ],
   "source": [
    "#checking for posts with removed/deleted titles\n",
    "sum(df_s['title'] == '[removed]'), sum(df_b['title'] == '[removed]')"
   ]
  },
  {
   "cell_type": "code",
   "execution_count": 74,
   "id": "25dfcdfd-138c-465d-b6d8-6dfbc0c5f421",
   "metadata": {},
   "outputs": [
    {
     "data": {
      "text/plain": [
       "(0, 0)"
      ]
     },
     "execution_count": 74,
     "metadata": {},
     "output_type": "execute_result"
    }
   ],
   "source": [
    "sum(df_s['title'] == '[deleted]'), sum(df_b['title'] == '[deleted]')"
   ]
  },
  {
   "cell_type": "markdown",
   "id": "0d02f99e-f5fd-4735-803d-aa94e7622241",
   "metadata": {},
   "source": [
    "**Combining the dataframes into one for modeling purposes**"
   ]
  },
  {
   "cell_type": "code",
   "execution_count": 75,
   "id": "9aab3900-75d7-49cc-8999-ddaa9ee7d9b4",
   "metadata": {},
   "outputs": [],
   "source": [
    "#Creating a new Dataframe of both subreddits combined, with subreddits mapped to values 1 or 0 and storing it as a new csv\n",
    "subs_df = pd.concat([df_s, df_b])"
   ]
  },
  {
   "cell_type": "code",
   "execution_count": 76,
   "id": "48164665-2b05-4346-97e2-6a1fcbfc38d8",
   "metadata": {},
   "outputs": [],
   "source": [
    "subs_df.to_csv(r'C:\\Users\\Dask\\Documents\\Code\\dsi\\project3\\project_3\\Data\\combined_df.csv')"
   ]
  },
  {
   "cell_type": "markdown",
   "id": "0f944351-6cfb-4c84-8191-cc487bea5d0d",
   "metadata": {},
   "source": [
    "**EDA word counts and visuals**"
   ]
  },
  {
   "cell_type": "code",
   "execution_count": 77,
   "id": "53fdd089-3156-4759-b36c-e6ccc390e299",
   "metadata": {},
   "outputs": [
    {
     "data": {
      "text/plain": [
       "(16.0, 16.0)"
      ]
     },
     "execution_count": 77,
     "metadata": {},
     "output_type": "execute_result"
    }
   ],
   "source": [
    "#Average title Length\n",
    "round(df_s['title'].str.count(' ').add(1).mean(), 0), round(df_b['title'].str.count(' ').add(1).mean(), 0)"
   ]
  },
  {
   "cell_type": "markdown",
   "id": "f5f64134-c22e-459a-ba83-ec3921604423",
   "metadata": {},
   "source": [
    "**Tokenizing and Lemmatizing**"
   ]
  },
  {
   "cell_type": "code",
   "execution_count": 78,
   "id": "13b50f74-548d-4abf-b9b4-6fd8646d86ec",
   "metadata": {},
   "outputs": [
    {
     "data": {
      "text/plain": [
       "0                                  [remember, this, ?]\n",
       "1    [amazon, buys, napoli, in, 2026, ?, bezos, rea...\n",
       "2    [messis, ,, lewandowskis, and, ronaldos, votes...\n",
       "3    [the, beginning, of, my, soccer, training, vlo...\n",
       "4    [reunião, nesta, terça, define, os, protocolos...\n",
       "Name: title, dtype: object"
      ]
     },
     "execution_count": 78,
     "metadata": {},
     "output_type": "execute_result"
    }
   ],
   "source": [
    "#tokenized soccer title column\n",
    "s_tokens = df_s['title'].apply(word_tokenize)\n",
    "s_tokens.head()"
   ]
  },
  {
   "cell_type": "code",
   "execution_count": 79,
   "id": "fc34dbba-44e5-4cfc-9e54-53cbc04ac901",
   "metadata": {},
   "outputs": [
    {
     "data": {
      "text/plain": [
       "0    [[, post, game, thread, ], the, miami, heat, (...\n",
       "1    [[, post, game, thread, ], the, miami, heat, (...\n",
       "2    [tobias, harris, is, one, of, the, worst, play...\n",
       "3    [who, do, you, think, is, the, ugliest, curren...\n",
       "4    [would, the, lakers, be, a, better, team, if, ...\n",
       "Name: title, dtype: object"
      ]
     },
     "execution_count": 79,
     "metadata": {},
     "output_type": "execute_result"
    }
   ],
   "source": [
    "#lemmatized basketball title column\n",
    "b_tokens = df_b['title'].apply(word_tokenize)\n",
    "b_tokens.head()"
   ]
  },
  {
   "cell_type": "code",
   "execution_count": 80,
   "id": "c63f0477-edaa-4208-affd-48a42c1f78b2",
   "metadata": {},
   "outputs": [],
   "source": [
    "lemmatizer = WordNetLemmatizer()"
   ]
  },
  {
   "cell_type": "code",
   "execution_count": 81,
   "id": "39b12363-6de4-48af-b3d9-1b4b9d934872",
   "metadata": {
    "tags": []
   },
   "outputs": [],
   "source": [
    "#lemmatized soccer title column\n",
    "lem_s = [lemmatizer.lemmatize(token) for token in df_s['title']]"
   ]
  },
  {
   "cell_type": "code",
   "execution_count": 82,
   "id": "2ad46cf4-a21e-4308-a6ee-d6652d940fab",
   "metadata": {
    "tags": []
   },
   "outputs": [],
   "source": [
    "#lemmatized basketball title column\n",
    "lem_b = [lemmatizer.lemmatize(token) for token in df_b['title']]"
   ]
  },
  {
   "cell_type": "markdown",
   "id": "2a768eeb-aa4e-4fcf-a021-7f3471438ec7",
   "metadata": {},
   "source": [
    "**Creating some helpful EDA visuals**"
   ]
  },
  {
   "cell_type": "code",
   "execution_count": 83,
   "id": "0f0c8dfa-5da4-4287-97ae-adf0c8f22b55",
   "metadata": {},
   "outputs": [],
   "source": [
    "# 50 most popular words for each subreddit"
   ]
  },
  {
   "cell_type": "code",
   "execution_count": 84,
   "id": "6aee67d4-4719-43a3-9fb4-d1125ec190a4",
   "metadata": {},
   "outputs": [],
   "source": [
    "cv = CountVectorizer(stop_words = 'english')"
   ]
  },
  {
   "cell_type": "code",
   "execution_count": 85,
   "id": "2cb46d46-3baf-4775-9302-2551ce706330",
   "metadata": {},
   "outputs": [],
   "source": [
    "corpus_s = df_s['title']"
   ]
  },
  {
   "cell_type": "code",
   "execution_count": 86,
   "id": "d29559a4-d477-4d0e-a799-329a65c97094",
   "metadata": {},
   "outputs": [],
   "source": [
    "word_count_vec_s = cv.fit_transform(corpus_s)"
   ]
  },
  {
   "cell_type": "code",
   "execution_count": 87,
   "id": "6ab02d7d-342f-4ca7-a8e8-73eb754c2606",
   "metadata": {},
   "outputs": [],
   "source": [
    "vector_s = cv.transform(corpus_s)"
   ]
  },
  {
   "cell_type": "code",
   "execution_count": 88,
   "id": "fa397376-e55f-49b3-b345-15b67e0c8635",
   "metadata": {},
   "outputs": [],
   "source": [
    "counts_s = pd.DataFrame(word_count_vec_s.todense(), columns = cv.get_feature_names())"
   ]
  },
  {
   "cell_type": "code",
   "execution_count": 89,
   "id": "9733e654-2d01-4313-8775-e1fd4350496d",
   "metadata": {},
   "outputs": [
    {
     "data": {
      "image/png": "[encoded data removed]",
      "text/plain": [
       "<Figure size 1080x864 with 1 Axes>"
      ]
     },
     "metadata": {
      "needs_background": "light"
     },
     "output_type": "display_data"
    }
   ],
   "source": [
    "#50 most popular words in soccer titles\n",
    "plt.figure(figsize = (15,12))\n",
    "counts_s.sum().sort_values(ascending=False).head(50).plot(kind='barh')\n",
    "plt.xlabel('Occurance rate', fontsize = 12)\n",
    "plt.ylabel('Words', fontsize = 12)\n",
    "plt.title('Common words from 2000 posts in the soccer subreddit', fontsize = 12);\n",
    "\n",
    "#plt.savefig('soccer_common_words.jpg')"
   ]
  },
  {
   "cell_type": "code",
   "execution_count": 90,
   "id": "dcd4c887-6b76-485e-aaf1-1b3a0301c804",
   "metadata": {},
   "outputs": [],
   "source": [
    "corpus_b = df_b['title']"
   ]
  },
  {
   "cell_type": "code",
   "execution_count": 91,
   "id": "2fbbe674-1322-4457-91ed-8c4514a76e13",
   "metadata": {},
   "outputs": [],
   "source": [
    "word_count_vec_b = cv.fit_transform(corpus_b)"
   ]
  },
  {
   "cell_type": "code",
   "execution_count": 92,
   "id": "76c8ab0c-77ec-4026-91cc-5bfba2099fe3",
   "metadata": {},
   "outputs": [],
   "source": [
    "vector_b = cv.transform(corpus_b)"
   ]
  },
  {
   "cell_type": "code",
   "execution_count": 93,
   "id": "46418347-b008-43c1-a1a5-dfc60e1c88cf",
   "metadata": {},
   "outputs": [],
   "source": [
    "counts_b = pd.DataFrame(word_count_vec_b.todense(), columns = cv.get_feature_names())"
   ]
  },
  {
   "cell_type": "code",
   "execution_count": 94,
   "id": "6ec173dd-872d-4dde-815b-5af4fa039458",
   "metadata": {},
   "outputs": [
    {
     "data": {
      "image/png": "[encoded data removed]",
      "text/plain": [
       "<Figure size 1080x864 with 1 Axes>"
      ]
     },
     "metadata": {
      "needs_background": "light"
     },
     "output_type": "display_data"
    }
   ],
   "source": [
    "#50 most popular words in basketball titles\n",
    "plt.figure(figsize = (15,12))\n",
    "counts_b.sum().sort_values(ascending=False).head(50).plot(kind='barh')\n",
    "plt.xlabel('Occurance rate', fontsize = 12)\n",
    "plt.ylabel('Words', fontsize = 12)\n",
    "plt.title('Common words from 2000 posts in the basketball subreddit', fontsize = 12);\n",
    "\n",
    "#plt.savefig('Basketball_common_words.jpg')"
   ]
  },
  {
   "cell_type": "markdown",
   "id": "bcde7460-0e6c-40ad-8849-35f768b0c223",
   "metadata": {},
   "source": [
    "**Frequency of certain terms**"
   ]
  },
  {
   "cell_type": "code",
   "execution_count": 95,
   "id": "8002e34f-aa29-44ad-a097-00189153ece0",
   "metadata": {},
   "outputs": [
    {
     "data": {
      "text/plain": [
       "(131, 70)"
      ]
     },
     "execution_count": 95,
     "metadata": {},
     "output_type": "execute_result"
    }
   ],
   "source": [
    "#code to find counts of words existing in both subreddits\n",
    "sum(counts_s['league']), sum(counts_b['league'])"
   ]
  },
  {
   "cell_type": "code",
   "execution_count": 96,
   "id": "bc0873e2-d24c-491f-bf03-1c6a8fae6f48",
   "metadata": {},
   "outputs": [
    {
     "data": {
      "text/html": [
       "<div>\n",
       "<style scoped>\n",
       "    .dataframe tbody tr th:only-of-type {\n",
       "        vertical-align: middle;\n",
       "    }\n",
       "\n",
       "    .dataframe tbody tr th {\n",
       "        vertical-align: top;\n",
       "    }\n",
       "\n",
       "    .dataframe thead th {\n",
       "        text-align: right;\n",
       "    }\n",
       "</style>\n",
       "<table border=\"1\" class=\"dataframe\">\n",
       "  <thead>\n",
       "    <tr style=\"text-align: right;\">\n",
       "      <th></th>\n",
       "      <th>Soccer</th>\n",
       "      <th>Basketball</th>\n",
       "    </tr>\n",
       "    <tr>\n",
       "      <th>Word</th>\n",
       "      <th></th>\n",
       "      <th></th>\n",
       "    </tr>\n",
       "  </thead>\n",
       "  <tbody>\n",
       "    <tr>\n",
       "      <th>Game</th>\n",
       "      <td>66</td>\n",
       "      <td>252</td>\n",
       "    </tr>\n",
       "    <tr>\n",
       "      <th>Match</th>\n",
       "      <td>193</td>\n",
       "      <td>4</td>\n",
       "    </tr>\n",
       "    <tr>\n",
       "      <th>Player</th>\n",
       "      <td>93</td>\n",
       "      <td>101</td>\n",
       "    </tr>\n",
       "    <tr>\n",
       "      <th>Goal</th>\n",
       "      <td>70</td>\n",
       "      <td>3</td>\n",
       "    </tr>\n",
       "    <tr>\n",
       "      <th>league</th>\n",
       "      <td>131</td>\n",
       "      <td>70</td>\n",
       "    </tr>\n",
       "    <tr>\n",
       "      <th>Win</th>\n",
       "      <td>25</td>\n",
       "      <td>61</td>\n",
       "    </tr>\n",
       "    <tr>\n",
       "      <th>loss</th>\n",
       "      <td>5</td>\n",
       "      <td>18</td>\n",
       "    </tr>\n",
       "    <tr>\n",
       "      <th>big</th>\n",
       "      <td>15</td>\n",
       "      <td>21</td>\n",
       "    </tr>\n",
       "    <tr>\n",
       "      <th>Spurs</th>\n",
       "      <td>22</td>\n",
       "      <td>12</td>\n",
       "    </tr>\n",
       "    <tr>\n",
       "      <th>2022</th>\n",
       "      <td>24</td>\n",
       "      <td>77</td>\n",
       "    </tr>\n",
       "    <tr>\n",
       "      <th>2021</th>\n",
       "      <td>55</td>\n",
       "      <td>12</td>\n",
       "    </tr>\n",
       "    <tr>\n",
       "      <th>Score</th>\n",
       "      <td>5</td>\n",
       "      <td>7</td>\n",
       "    </tr>\n",
       "  </tbody>\n",
       "</table>\n",
       "</div>"
      ],
      "text/plain": [
       "        Soccer  Basketball\n",
       "Word                      \n",
       "Game        66         252\n",
       "Match      193           4\n",
       "Player      93         101\n",
       "Goal        70           3\n",
       "league     131          70\n",
       "Win         25          61\n",
       "loss         5          18\n",
       "big         15          21\n",
       "Spurs       22          12\n",
       "2022        24          77\n",
       "2021        55          12\n",
       "Score        5           7"
      ]
     },
     "execution_count": 96,
     "metadata": {},
     "output_type": "execute_result"
    }
   ],
   "source": [
    "# DF of counts taken of words in both subreddits\n",
    "counts_df = pd.DataFrame(\n",
    "    {'Word':['Game', 'Match', 'Player', 'Goal', 'league', 'Win', 'loss', 'big', 'Spurs', '2022', '2021', 'Score'], \n",
    "     'Soccer':[66, 193, 93, 70, 131, 25, 5, 15, 22, 24, 55, 5], \n",
    "     'Basketball':[252, 4, 101, 3, 70, 61, 18, 21, 12, 77, 12, 7]})\n",
    "counts_df = counts_df.set_index('Word')\n",
    "counts_df"
   ]
  },
  {
   "cell_type": "code",
   "execution_count": 97,
   "id": "fa8e2049-f4f7-42c5-9a59-2dd5f2ceb59e",
   "metadata": {},
   "outputs": [
    {
     "data": {
      "image/png": "[encoded data removed]",
      "text/plain": [
       "<Figure size 1080x720 with 1 Axes>"
      ]
     },
     "metadata": {
      "needs_background": "light"
     },
     "output_type": "display_data"
    }
   ],
   "source": [
    "# Graph of counts of words found in both subreddits\n",
    "counts_df[['Soccer','Basketball']].plot(kind='bar', figsize=(15, 10), fontsize=12)\n",
    "plt.xlabel('Words used in both subreddits', fontsize = 12)\n",
    "plt.xticks(rotation = 0)\n",
    "plt.ylabel('Count of word usage', fontsize = 12)\n",
    "plt.title('Common words from 2000 posts in the basketball and soccer subreddits', fontsize = 12);\n",
    "\n",
    "#plt.savefig('words_from_both.jpg')"
   ]
  },
  {
   "cell_type": "markdown",
   "id": "f0ec7b99-db19-4784-bf5b-83b84d9b5a47",
   "metadata": {},
   "source": [
    "# Modeling"
   ]
  },
  {
   "cell_type": "markdown",
   "id": "93073329-3933-488d-95b3-2848382e92d2",
   "metadata": {},
   "source": [
    "**Setting up X and y variables for models**"
   ]
  },
  {
   "cell_type": "code",
   "execution_count": 98,
   "id": "6725c378-230f-4e39-803a-6e97840c1d91",
   "metadata": {},
   "outputs": [],
   "source": [
    "X = subs_df['title']\n",
    "y = subs_df['subreddit']"
   ]
  },
  {
   "cell_type": "code",
   "execution_count": 99,
   "id": "dacd6a4e-714f-4688-a0ad-0f28d2db6e90",
   "metadata": {},
   "outputs": [],
   "source": [
    "X_train, X_test, y_train, y_test = train_test_split(X, y,\n",
    "                                                    random_state = 42,\n",
    "                                                    stratify=y,\n",
    "                                                    test_size = 0.2)"
   ]
  },
  {
   "cell_type": "markdown",
   "id": "9aa6bb43-7844-4d81-81b9-29ce283a0d6e",
   "metadata": {},
   "source": [
    "**Naive Bayes Model**"
   ]
  },
  {
   "cell_type": "code",
   "execution_count": 100,
   "id": "f6ebcf99-5fd1-4cac-bc06-9be8f3961282",
   "metadata": {},
   "outputs": [],
   "source": [
    "pipe = Pipeline([\n",
    "    ('cv', CountVectorizer()),\n",
    "    ('mnb', MultinomialNB())\n",
    "])"
   ]
  },
  {
   "cell_type": "code",
   "execution_count": 101,
   "id": "e5347bf7-c536-44e0-b1e5-7913001e6e43",
   "metadata": {},
   "outputs": [
    {
     "data": {
      "text/plain": [
       "(0.9874686716791979, 0.9624530663329162)"
      ]
     },
     "execution_count": 101,
     "metadata": {},
     "output_type": "execute_result"
    }
   ],
   "source": [
    "pipe.fit(X_train, y_train)\n",
    "\n",
    "pipe.score(X_train, y_train), pipe.score(X_test, y_test)"
   ]
  },
  {
   "cell_type": "markdown",
   "id": "6ac648da-8470-451a-9e86-aa8c1d88143f",
   "metadata": {},
   "source": [
    "**Logistic Regression Model**"
   ]
  },
  {
   "cell_type": "code",
   "execution_count": 102,
   "id": "809bd6c3-7bcf-43c7-951a-02da1f14f9cb",
   "metadata": {},
   "outputs": [],
   "source": [
    "pipe2 = Pipeline([\n",
    "    ('cv', CountVectorizer()),\n",
    "    ('lr', LogisticRegression())\n",
    "])"
   ]
  },
  {
   "cell_type": "code",
   "execution_count": 103,
   "id": "bae49615-63aa-418a-b150-79da3487a55f",
   "metadata": {},
   "outputs": [
    {
     "data": {
      "text/plain": [
       "(0.9971804511278195, 0.9524405506883604)"
      ]
     },
     "execution_count": 103,
     "metadata": {},
     "output_type": "execute_result"
    }
   ],
   "source": [
    "pipe2.fit(X_train, y_train)\n",
    "\n",
    "pipe2.score(X_train, y_train), pipe2.score(X_test, y_test)"
   ]
  },
  {
   "cell_type": "markdown",
   "id": "94cce5c3-5473-485f-8856-8cb0958ee313",
   "metadata": {},
   "source": [
    "**Random Forest Model**"
   ]
  },
  {
   "cell_type": "code",
   "execution_count": 104,
   "id": "67a81e4f-f24c-4ac1-94dd-b80364dc7551",
   "metadata": {},
   "outputs": [],
   "source": [
    "rfc = RandomForestClassifier()\n",
    "etc = ExtraTreesClassifier()"
   ]
  },
  {
   "cell_type": "code",
   "execution_count": 105,
   "id": "5ac59a2d-03c7-46b1-91ed-7d74d5107c55",
   "metadata": {},
   "outputs": [],
   "source": [
    "pipe_rfc = Pipeline([\n",
    "    ('cv', CountVectorizer()),\n",
    "    ('rfc', RandomForestClassifier())\n",
    "])"
   ]
  },
  {
   "cell_type": "code",
   "execution_count": 106,
   "id": "4cfd6721-ace9-4268-82e7-ed8687fa8d64",
   "metadata": {
    "tags": []
   },
   "outputs": [
    {
     "name": "stdout",
     "output_type": "stream",
     "text": [
      "[0.91079812 0.90766823 0.90909091 0.90125392 0.90595611]\n",
      "0.9069534588232985\n"
     ]
    }
   ],
   "source": [
    "rfc_scores = cross_val_score(pipe_rfc, X_train, y_train)\n",
    "print(rfc_scores)\n",
    "print(rfc_scores.mean())"
   ]
  },
  {
   "cell_type": "markdown",
   "id": "a822066b-5295-41d0-b7ad-862729fc49be",
   "metadata": {},
   "source": [
    "**Extra Trees Model**"
   ]
  },
  {
   "cell_type": "code",
   "execution_count": 107,
   "id": "7c34efcf-9bc3-435c-b35b-ff61f6828ee7",
   "metadata": {},
   "outputs": [],
   "source": [
    "pipe_etc = Pipeline([\n",
    "    ('cv', CountVectorizer()),\n",
    "    ('etc', ExtraTreesClassifier())\n",
    "])"
   ]
  },
  {
   "cell_type": "code",
   "execution_count": 108,
   "id": "ee50e676-b7f8-4058-b7d0-69e0d53867d1",
   "metadata": {
    "tags": []
   },
   "outputs": [
    {
     "name": "stdout",
     "output_type": "stream",
     "text": [
      "[0.9170579  0.90923318 0.92633229 0.93260188 0.92789969]\n",
      "0.922624987122316\n"
     ]
    }
   ],
   "source": [
    "etc_scores = cross_val_score(pipe_etc, X_train, y_train)\n",
    "print(etc_scores)\n",
    "print(etc_scores.mean())"
   ]
  },
  {
   "cell_type": "markdown",
   "id": "0d0030b5-c98e-447a-9180-d3aa65bdb55e",
   "metadata": {},
   "source": [
    "**Confusion matrices of models accuracy for my two best models, logistic regression and naive bayes**"
   ]
  },
  {
   "cell_type": "code",
   "execution_count": 109,
   "id": "de9e4eb8-4708-46a1-b783-159348c41db6",
   "metadata": {},
   "outputs": [
    {
     "data": {
      "image/png": "[encoded data removed]",
      "text/plain": [
       "<Figure size 432x288 with 2 Axes>"
      ]
     },
     "metadata": {
      "needs_background": "light"
     },
     "output_type": "display_data"
    }
   ],
   "source": [
    "plot_confusion_matrix(pipe, X_test, y_test, cmap='Blues', values_format='d')\n",
    "plt.title('Naive Bayes Accuracy');\n",
    "\n",
    "#plt.savefig('NB_accuracy_matrix.jpg')"
   ]
  },
  {
   "cell_type": "code",
   "execution_count": 110,
   "id": "0233999b-0001-4f47-b08b-385fea532084",
   "metadata": {},
   "outputs": [
    {
     "data": {
      "image/png": "[encoded data removed]",
      "text/plain": [
       "<Figure size 432x288 with 2 Axes>"
      ]
     },
     "metadata": {
      "needs_background": "light"
     },
     "output_type": "display_data"
    }
   ],
   "source": [
    "plot_confusion_matrix(pipe2, X_test, y_test, cmap='Blues', values_format='d')\n",
    "plt.title('Logistic Regression Accuracy');\n",
    "\n",
    "#plt.savefig('LR_accuracy_matrix.jpg')"
   ]
  },
  {
   "cell_type": "code",
   "execution_count": null,
   "id": "23d117cb-3b13-4f5e-9be5-9481b540ce20",
   "metadata": {},
   "outputs": [],
   "source": []
  }
 ],
 "metadata": {
  "kernelspec": {
   "display_name": "Python 3 (ipykernel)",
   "language": "python",
   "name": "python3"
  },
  "language_info": {
   "codemirror_mode": {
    "name": "ipython",
    "version": 3
   },
   "file_extension": ".py",
   "mimetype": "text/x-python",
   "name": "python",
   "nbconvert_exporter": "python",
   "pygments_lexer": "ipython3",
   "version": "3.9.7"
  }
 },
 "nbformat": 4,
 "nbformat_minor": 5
}
